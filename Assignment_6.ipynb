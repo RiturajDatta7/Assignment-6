{
  "nbformat": 4,
  "nbformat_minor": 0,
  "metadata": {
    "colab": {
      "provenance": []
    },
    "kernelspec": {
      "name": "python3",
      "display_name": "Python 3"
    },
    "language_info": {
      "name": "python"
    }
  },
  "cells": [
    {
      "cell_type": "markdown",
      "source": [
        "Assignment 1"
      ],
      "metadata": {
        "id": "UhsGqj-v0Wbk"
      }
    },
    {
      "cell_type": "code",
      "execution_count": 1,
      "metadata": {
        "colab": {
          "base_uri": "https://localhost:8080/"
        },
        "id": "PRsZ6ugC0RTE",
        "outputId": "5e2f7b11-1fe7-4cba-8cc6-2f641b9d365b"
      },
      "outputs": [
        {
          "output_type": "stream",
          "name": "stdout",
          "text": [
            "{'name': 'Rituraj', 'dob': '01/01/1990', 'height': 5.8, 'city': 'Kolkata', 'state': 'West Bengal'}\n",
            "{'name': 'Prabir', 'dob': '02/02/1991', 'height': 5.6, 'city': 'Bangalore', 'state': 'Karnataka'}\n",
            "{'name': 'Lily', 'dob': '03/03/1992', 'height': 5.9, 'city': 'Vellore', 'state': 'Tamil Nadu'}\n",
            "{'name': 'Sonu', 'dob': '04/04/1993', 'height': 5.7, 'city': 'Jaipur', 'state': 'Rajasthan'}\n",
            "{'name': 'LeoMessi', 'dob': '05/05/1994', 'height': 5.1, 'city': 'Shrinagar', 'state': 'Kashmir'}\n"
          ]
        }
      ],
      "source": [
        "#Task 1\n",
        "\n",
        "import json\n",
        "\n",
        "class Employee:\n",
        "    def __init__(self, name, dob, height, city, state):\n",
        "        self.name = name\n",
        "        self.dob = dob\n",
        "        self.height = height\n",
        "        self.city = city\n",
        "        self.state = state\n",
        "\n",
        "employees = [\n",
        "    Employee(\"Rituraj\", \"01/01/1990\", 5.8, \"Kolkata\", \"West Bengal\"),\n",
        "    Employee(\"Prabir\", \"02/02/1991\", 5.6, \"Bangalore\", \"Karnataka\"),\n",
        "    Employee(\"Lily\", \"03/03/1992\", 5.9, \"Vellore\", \"Tamil Nadu\"),\n",
        "    Employee(\"Sonu\", \"04/04/1993\", 5.7, \"Jaipur\", \"Rajasthan\"),\n",
        "    Employee(\"LeoMessi\", \"05/05/1994\", 5.10, \"Shrinagar\", \"Kashmir\")\n",
        "]\n",
        "\n",
        "with open(\"employee.json\", \"w\") as f:\n",
        "    json.dump([e.__dict__ for e in employees], f)\n",
        "\n",
        "with open(\"employee.json\", \"r\") as f:\n",
        "    data = json.load(f)\n",
        "    employees = [Employee(e[\"name\"], e[\"dob\"], e[\"height\"], e[\"city\"], e[\"state\"]) for e in data]\n",
        "    for e in employees:\n",
        "        print(e.__dict__)"
      ]
    },
    {
      "cell_type": "code",
      "source": [
        "#Task 2\n",
        "\n",
        "import json\n",
        "\n",
        "states = {\n",
        "    \"Andhra Pradesh\": \"Hyderabad\",\n",
        "    \"Arunachal Pradesh\": \"Itanagar\",\n",
        "    \"Assam\": \"Dispur\",\n",
        "    \"Bihar\": \"Patna\",\n",
        "    \"Chhattisgarh\": \"Raipur\",\n",
        "    \"Goa\": \"Panaji\",\n",
        "    \"Gujarat\": \"Gandhinagar\"\n",
        "}\n",
        "\n",
        "with open(\"states.json\", \"w\") as f:\n",
        "    json.dump(states, f)\n",
        "\n",
        "with open(\"states.json\", \"r\") as f:\n",
        "    data = json.load(f)\n",
        "    for state, capital in data.items():\n",
        "        print(f\"{state}: {capital}\")\n"
      ],
      "metadata": {
        "colab": {
          "base_uri": "https://localhost:8080/"
        },
        "id": "GsEvgkBs1nhb",
        "outputId": "775bb1a4-7e0a-4160-c14f-35550f82f05b"
      },
      "execution_count": 2,
      "outputs": [
        {
          "output_type": "stream",
          "name": "stdout",
          "text": [
            "Andhra Pradesh: Hyderabad\n",
            "Arunachal Pradesh: Itanagar\n",
            "Assam: Dispur\n",
            "Bihar: Patna\n",
            "Chhattisgarh: Raipur\n",
            "Goa: Panaji\n",
            "Gujarat: Gandhinagar\n"
          ]
        }
      ]
    },
    {
      "cell_type": "markdown",
      "source": [
        "Assignment 2"
      ],
      "metadata": {
        "id": "aKHcZBMMvUGC"
      }
    },
    {
      "cell_type": "code",
      "source": [
        "class Dog:\n",
        "    def __init__(self, name, age, coat_color):\n",
        "        self.name = name\n",
        "        self.age = age\n",
        "        self.coat_color = coat_color\n",
        "\n",
        "    def description(self):\n",
        "        print(f\"{self.name} is {self.age} years old.\")\n",
        "\n",
        "    def get_info(self):\n",
        "        print(f\"{self.name}'s coat color is {self.coat_color}.\")\n",
        "\n",
        "class JackRussellTerrier(Dog):\n",
        "    def __init__(self, name, age, coat_color):\n",
        "        super().__init__(name, age, coat_color)\n",
        "\n",
        "    def bark(self):\n",
        "        print(\"Woof! Woof!\")\n",
        "\n",
        "    def hunt(self):\n",
        "        print(f\"{self.name} is hunting.\")\n",
        "\n",
        "class Bulldog(Dog):\n",
        "    def __init__(self, name, age, coat_color):\n",
        "        super().__init__(name, age, coat_color)\n",
        "\n",
        "    def snore(self):\n",
        "        print(f\"{self.name} is snoring.\")\n",
        "\n",
        "    def guard(self):\n",
        "        print(f\"{self.name} is guarding the house.\")\n",
        "\n",
        "# Create objects and implement the above functionalities\n",
        "dog1 = Dog(\"Buddy\", 3, \"brown\")\n",
        "dog1.description()\n",
        "dog1.get_info()\n",
        "\n",
        "jr_terrier = JackRussellTerrier(\"Jack\", 2, \"white\")\n",
        "jr_terrier.description()\n",
        "jr_terrier.get_info()\n",
        "jr_terrier.bark()\n",
        "jr_terrier.hunt()\n",
        "\n",
        "bulldog = Bulldog(\"Rocky\", 4, \"black\")\n",
        "bulldog.description()\n",
        "bulldog.get_info()\n",
        "bulldog.snore()\n",
        "bulldog.guard()\n"
      ],
      "metadata": {
        "colab": {
          "base_uri": "https://localhost:8080/"
        },
        "id": "m5laFAvxwkFi",
        "outputId": "aa1b0171-0d30-465c-b4d3-f9748d6d8145"
      },
      "execution_count": 3,
      "outputs": [
        {
          "output_type": "stream",
          "name": "stdout",
          "text": [
            "Buddy is 3 years old.\n",
            "Buddy's coat color is brown.\n",
            "Jack is 2 years old.\n",
            "Jack's coat color is white.\n",
            "Woof! Woof!\n",
            "Jack is hunting.\n",
            "Rocky is 4 years old.\n",
            "Rocky's coat color is black.\n",
            "Rocky is snoring.\n",
            "Rocky is guarding the house.\n"
          ]
        }
      ]
    }
  ]
}